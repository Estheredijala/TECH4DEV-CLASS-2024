{
 "cells": [
  {
   "cell_type": "code",
   "execution_count": 5,
   "id": "18900d0c",
   "metadata": {},
   "outputs": [
    {
     "name": "stdout",
     "output_type": "stream",
     "text": [
      "\ta\tb\tc\n",
      "\\\\\n",
      "'\n",
      "\"\"\"\n",
      "C:\n",
      "in\the downward spiral\n"
     ]
    }
   ],
   "source": [
    "#1.\tWhat is the output of the following print statements?\n",
    "print(\"\\ta\\tb\\tc\")\n",
    "\n",
    "print(\"\\\\\\\\\")\n",
    "print(\"'\")\n",
    "\n",
    "print(\"\\\"\\\"\\\"\")\n",
    "\n",
    "print(\"C:\\nin\\the downward spiral\")\n"
   ]
  },
  {
   "cell_type": "code",
   "execution_count": null,
   "id": "ad1c1827",
   "metadata": {},
   "outputs": [],
   "source": [
    "# (\\) is a special character that tell \n",
    "# the system to print what is afer it. \n",
    "# (\\t) gives a tab before the letters\n",
    "# (\\n) gives a new line"
   ]
  },
  {
   "cell_type": "code",
   "execution_count": 1,
   "id": "58e1e822",
   "metadata": {},
   "outputs": [
    {
     "name": "stdout",
     "output_type": "stream",
     "text": [
      "\ta\tb\tc\n"
     ]
    }
   ],
   "source": [
    "#The out output of the following\n",
    "print(\"\\ta\\tb\\tc\")"
   ]
  },
  {
   "cell_type": "code",
   "execution_count": 6,
   "id": "255bb575",
   "metadata": {},
   "outputs": [
    {
     "name": "stdout",
     "output_type": "stream",
     "text": [
      "\tEsther\tOgheneweware\tEdijala\n"
     ]
    }
   ],
   "source": [
    "# printing my name using the tab function(\\t)\n",
    "print(\"\\tEsther\\tOgheneweware\\tEdijala\")"
   ]
  },
  {
   "cell_type": "code",
   "execution_count": 7,
   "id": "cc7867fc",
   "metadata": {},
   "outputs": [
    {
     "name": "stdout",
     "output_type": "stream",
     "text": [
      "''\n"
     ]
    }
   ],
   "source": [
    "print(\"''\")"
   ]
  },
  {
   "cell_type": "code",
   "execution_count": 22,
   "id": "0cf1b017",
   "metadata": {},
   "outputs": [
    {
     "name": "stdout",
     "output_type": "stream",
     "text": [
      "\\\\\\\n"
     ]
    }
   ],
   "source": [
    "print(\"\\\\\\\\\\\\\")"
   ]
  },
  {
   "cell_type": "code",
   "execution_count": 12,
   "id": "c061768c",
   "metadata": {},
   "outputs": [
    {
     "name": "stdout",
     "output_type": "stream",
     "text": [
      "\"\"\"\n"
     ]
    }
   ],
   "source": [
    "print('\\\"\\\"\\\"')"
   ]
  },
  {
   "cell_type": "code",
   "execution_count": 8,
   "id": "64c0e5d9",
   "metadata": {},
   "outputs": [
    {
     "name": "stdout",
     "output_type": "stream",
     "text": [
      "C:\n",
      "in\the downward spiral\n"
     ]
    }
   ],
   "source": [
    "print(\"C:\\nin\\the downward spiral\")"
   ]
  },
  {
   "cell_type": "markdown",
   "id": "59a838c0",
   "metadata": {},
   "source": [
    "Number 2"
   ]
  },
  {
   "cell_type": "code",
   "execution_count": 18,
   "id": "979ed0fb",
   "metadata": {},
   "outputs": [
    {
     "name": "stdout",
     "output_type": "stream",
     "text": [
      "/ \\ // \\ /// \\\\\\\n"
     ]
    }
   ],
   "source": [
    "#2.\tWrite a print statement to produce this output:\n",
    "#/ \\ // \\\\ /// \\\\\\\n",
    "\n",
    "print('/ \\ // \\\\ /// \\\\\\\\\\\\')"
   ]
  },
  {
   "cell_type": "code",
   "execution_count": 24,
   "id": "757c641c",
   "metadata": {},
   "outputs": [
    {
     "name": "stdout",
     "output_type": "stream",
     "text": [
      "/ \\ // \\\\ /// \\\\\\ \n"
     ]
    }
   ],
   "source": [
    "print('/ \\ // \\\\\\\\ /// \\\\\\\\\\\\ ')"
   ]
  },
  {
   "cell_type": "markdown",
   "id": "7800b7c7",
   "metadata": {},
   "source": [
    "Number 3"
   ]
  },
  {
   "cell_type": "markdown",
   "id": "9299c701",
   "metadata": {},
   "source": [
    "What print statements will generate this output?\n",
    "\n",
    "This quote is from Irish poet Oscar Wilde:\n",
    "\n",
    "Music makes one feel so romantic\n",
    "\n",
    "at least it always gets on one's nerves – \n",
    "which is the same thing nowadays\n",
    "\n"
   ]
  },
  {
   "cell_type": "code",
   "execution_count": 26,
   "id": "c42595b9",
   "metadata": {},
   "outputs": [
    {
     "name": "stdout",
     "output_type": "stream",
     "text": [
      "This quote is from Irish poet Oscar Wilde:\n",
      "\"Music makes one feel so romantic\n",
      "- at least it always gets on one's nerves – \n",
      " which is the same thing nowadays.\"\n"
     ]
    }
   ],
   "source": [
    "print('This quote is from Irish poet Oscar Wilde:\\n\"Music makes one feel so romantic\\n- at least it always gets on one\\'s nerves – \\n which is the same thing nowadays.\"')"
   ]
  },
  {
   "cell_type": "markdown",
   "id": "411f3686",
   "metadata": {},
   "source": [
    "NUMBER 4\n",
    "\n",
    "What print statements will generate this output?\n",
    "\n",
    "A \"quoted\" String is \n",
    "'much' better if you learn\n",
    "the rules of \"escape sequences.\"\n",
    "Also, \"\" represents an empty String.\n",
    "Don't forget: use \\\" instead of \" ! \n",
    "'' is not the same as \"\n"
   ]
  },
  {
   "cell_type": "code",
   "execution_count": 28,
   "id": "7cbbc9dc",
   "metadata": {
    "scrolled": true
   },
   "outputs": [
    {
     "name": "stdout",
     "output_type": "stream",
     "text": [
      "A \"quoted\" String is\n",
      "'much' better if you learn\n",
      " the rules of \"escape sequences.\"\n",
      " Also, \"\" represents an empty String.\n",
      " Don't forget: use \" instead of \" !\n",
      " is not the same as \"\n"
     ]
    }
   ],
   "source": [
    "print('A \"quoted\" String is\\n\\'much\\' better if you learn\\n the rules of \"escape sequences.\"\\n Also, \"\" represents an empty String.\\n Don\\'t forget: use \\\" instead of \" !\\n'' is not the same as \"')"
   ]
  },
  {
   "cell_type": "markdown",
   "id": "00fe4290",
   "metadata": {},
   "source": [
    "NUMBER 5\n",
    "5.\tWhat values result from the following expressions?\n",
    "–\t9 / 5\n",
    "–\t695 % 20\n",
    "–\t7 + 6 * 5\n",
    "–\t7 * 6 + 5\n",
    "–\t248 % 100 / 5\n",
    "–\t6 * 3 - 9 / 4\n",
    "–\t(5 - 7) * 4\n",
    "–\t6 + (18 % (17 - 12))\n"
   ]
  },
  {
   "cell_type": "code",
   "execution_count": 32,
   "id": "b43fd368",
   "metadata": {},
   "outputs": [
    {
     "name": "stdout",
     "output_type": "stream",
     "text": [
      "1.8\n",
      "15\n",
      "37\n",
      "47\n",
      "9.6\n",
      "15.75\n",
      "-8\n",
      "9\n"
     ]
    }
   ],
   "source": [
    "print(9 / 5)\n",
    "print(695 % 20)\n",
    "print(7 + 6 * 5)\n",
    "print(7 * 6 + 5)\n",
    "print(248 % 100 / 5)\n",
    "print(6 * 3 - 9 / 4)\n",
    "print((5 - 7) * 4)\n",
    "print(6 + (18 % (17 - 12)))\n"
   ]
  },
  {
   "cell_type": "code",
   "execution_count": null,
   "id": "e54cd915",
   "metadata": {},
   "outputs": [],
   "source": []
  },
  {
   "cell_type": "code",
   "execution_count": null,
   "id": "711f81e9",
   "metadata": {},
   "outputs": [],
   "source": []
  },
  {
   "cell_type": "code",
   "execution_count": null,
   "id": "940c3edf",
   "metadata": {},
   "outputs": [],
   "source": []
  }
 ],
 "metadata": {
  "kernelspec": {
   "display_name": "Python 3 (ipykernel)",
   "language": "python",
   "name": "python3"
  },
  "language_info": {
   "codemirror_mode": {
    "name": "ipython",
    "version": 3
   },
   "file_extension": ".py",
   "mimetype": "text/x-python",
   "name": "python",
   "nbconvert_exporter": "python",
   "pygments_lexer": "ipython3",
   "version": "3.11.5"
  }
 },
 "nbformat": 4,
 "nbformat_minor": 5
}
