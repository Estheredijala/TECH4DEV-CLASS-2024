{
 "cells": [
  {
   "cell_type": "markdown",
   "id": "7bf944a3",
   "metadata": {},
   "source": [
    "# Python programming exercises 3\n"
   ]
  },
  {
   "cell_type": "markdown",
   "id": "f1e5aae4",
   "metadata": {},
   "source": [
    "QUESTION 1\n",
    "Write a program to produce the following output using for loop\n",
    "+----+\n",
    "\\ /\n",
    "/ \\\n",
    "\\ /\n",
    "/ \\\n",
    "\\ /\n",
    "/ \\\n",
    "+----+"
   ]
  },
  {
   "cell_type": "code",
   "execution_count": null,
   "id": "cd3b8cf3",
   "metadata": {
    "scrolled": true
   },
   "outputs": [],
   "source": [
    "print('+----+')\n",
    "for i in range(4):\n",
    "    print ('\\\\  /')\n",
    "    print ('/  \\\\')\n",
    "print('+----+')"
   ]
  },
  {
   "cell_type": "code",
   "execution_count": null,
   "id": "7cb7dc28",
   "metadata": {},
   "outputs": [],
   "source": [
    "# Print the top line of the pattern\n",
    "print(\"+----+\")\n",
    "\n",
    "# Use a for loop to iterate four times (for the middle part of the pattern)\n",
    "for i in range(4):\n",
    "    # Print the first line of the middle part\n",
    "    print(\"\\\\ /\")\n",
    "    \n",
    "    # Print the second line of the middle part\n",
    "    print(\"/ \\\\\")\n",
    "\n",
    "# Print the bottom line of the pattern\n",
    "print(\"+----+\")\n"
   ]
  },
  {
   "cell_type": "markdown",
   "id": "d5b3a986",
   "metadata": {},
   "source": [
    "QUESTION 5\n",
    "Write a program to produce the following output using for loop\n",
    "**********\n",
    "**********\n",
    "**********\n",
    "**********\n",
    "**********"
   ]
  },
  {
   "cell_type": "code",
   "execution_count": null,
   "id": "73b9b400",
   "metadata": {},
   "outputs": [],
   "source": [
    "for i in range(5):\n",
    "    print('**********')"
   ]
  },
  {
   "cell_type": "markdown",
   "id": "d3765a61",
   "metadata": {},
   "source": [
    "\n",
    "QUETSION 6 (NOT ANSWERED YET)\n",
    "Complete the code for the following for loop:\n",
    "for in range(1,7):\n",
    " //your code here\n",
    "so that it prints the following numbers, one per line"
   ]
  },
  {
   "cell_type": "code",
   "execution_count": null,
   "id": "6d3e8313",
   "metadata": {},
   "outputs": [],
   "source": [
    "for i in range(1, 7):\n",
    "    print(i)"
   ]
  },
  {
   "cell_type": "code",
   "execution_count": null,
   "id": "6bc825d3",
   "metadata": {},
   "outputs": [],
   "source": [
    "# line a) 1, 2, 3, 4, 5, 6\n",
    "print(\"a)\", end=\" \")\n",
    "for i in range(1, 7):\n",
    "    print(i, end=\" \")\n",
    "print()\n",
    "\n",
    "# line b) 2, 4, 6, 8, 10, 12\n",
    "print(\"b)\", end=\" \")\n",
    "for i in range(1, 7):\n",
    "    print(i * 2, end=\" \")\n",
    "print()\n",
    "\n",
    "# line c) 4, 19, 34, 49, 64, 79\n",
    "print(\"c)\", end=\" \")\n",
    "for i in range(1, 7):\n",
    "    print((i * 15) - 11, end=\" \")\n",
    "print()\n",
    "\n",
    "# line d) 30, 20, 10, 0, -10, -20\n",
    "print(\"d)\", end=\" \")\n",
    "for i in range(6):\n",
    "    print(30 - i * 10, end=\" \")\n",
    "print()\n",
    "\n",
    "# line e) -7, -3, 1, 5, 9, 13\n",
    "print(\"e)\", end=\" \")\n",
    "for i in range(-7, 14, 4):\n",
    "    print(i, end=\" \")\n",
    "print()\n",
    "\n",
    "# line f) 97, 94, 91, 88, 85, 82\n",
    "print(\"f)\", end=\" \")\n",
    "for i in range(97, 81, -3):\n",
    "    print(i, end=\" \")\n",
    "print()\n"
   ]
  },
  {
   "cell_type": "code",
   "execution_count": null,
   "id": "c9374a87",
   "metadata": {},
   "outputs": [],
   "source": []
  },
  {
   "cell_type": "code",
   "execution_count": null,
   "id": "972330f6",
   "metadata": {},
   "outputs": [],
   "source": []
  },
  {
   "cell_type": "code",
   "execution_count": null,
   "id": "cd37ee03",
   "metadata": {},
   "outputs": [],
   "source": []
  },
  {
   "cell_type": "markdown",
   "id": "b2b2aceb",
   "metadata": {},
   "source": [
    "QUESTION 4\n",
    "Write a program to produce the following output using for loops. Then \n",
    "use a class constant to make it possible to change the number of lines in \n",
    "the figure.\n",
    "1\n",
    "22\n",
    "333\n",
    "4444\n",
    "55555\n",
    "666666\n",
    "7777777"
   ]
  },
  {
   "cell_type": "code",
   "execution_count": null,
   "id": "d45da625",
   "metadata": {},
   "outputs": [],
   "source": [
    "#using the nested if loop\n",
    "class NumberTriangle:\n",
    "    NUM_LINES = 7  # Class constant to control the number of lines\n",
    "\n",
    "    def print_triangle(self):\n",
    "        for i in range(1, self.NUM_LINES + 1):\n",
    "            for j in range(i):\n",
    "                print(i, end=\"\")\n",
    "            print()\n",
    "\n",
    "# Create an instance of the class and print the triangle\n",
    "triangle = NumberTriangle()\n",
    "triangle.print_triangle()\n"
   ]
  },
  {
   "cell_type": "code",
   "execution_count": null,
   "id": "c743d5e0",
   "metadata": {},
   "outputs": [],
   "source": [
    "# using the print\n",
    "class NumberTriangle:\n",
    "    NUM_LINES = 7\n",
    "\n",
    "    def print_triangle(self):\n",
    "        for i in range(1, self.NUM_LINES + 1):\n",
    "            print(str(i) * i)\n",
    "\n",
    "# Create an instance of the class and print the triangle\n",
    "triangle = NumberTriangle()\n",
    "triangle.print_triangle()"
   ]
  },
  {
   "cell_type": "markdown",
   "id": "e070bd09",
   "metadata": {},
   "source": [
    "QUESTION 5\n",
    "Write a method named pay that accepts two parameters: a real number \n",
    "for a TA's salary, and an integer for the number of hours the TA worked \n",
    "this week. The method should return how much money to pay the TA. \n",
    "For example, the call \n",
    "pay(5.50, 6)\n",
    "should return \n",
    "33.0. \n",
    "The TA should receive \"overtime\" pay of 1 ½ normal salary for any hours \n",
    "above 8. For example, the call pay(4.00, 11) should return (4.00 * \n",
    "8) + (6.00 * 3) or 50.0."
   ]
  },
  {
   "cell_type": "code",
   "execution_count": null,
   "id": "1e16a325",
   "metadata": {},
   "outputs": [],
   "source": [
    "def pay(salary, hours_worked):\n",
    "    if hours_worked <= 8:\n",
    "        return salary * hours_worked\n",
    "    else:\n",
    "        normal_hours = 8\n",
    "        overtime_hours = hours_worked - 8\n",
    "        return (salary * normal_hours) + (1.5 * salary * overtime_hours)\n",
    "\n",
    "# Input function to get user input\n",
    "def get_user_input():\n",
    "    salary = float(input(\"Enter the TA's hourly salary: \"))\n",
    "    hours_worked = int(input(\"Enter the number of hours worked this week: \"))\n",
    "    return salary, hours_worked\n",
    "\n",
    "# Example usage:\n",
    "salary, hours_worked = get_user_input()\n",
    "total_pay = pay(salary, hours_worked)\n",
    "print(f\"The TA's total pay is: {total_pay}\")\n"
   ]
  },
  {
   "cell_type": "markdown",
   "id": "f9485ccb",
   "metadata": {},
   "source": [
    "QUESTION 6\n",
    "Consider the following method for converting milliseconds into days:\n",
    "// converts milliseconds to days\n",
    "def toDays(millis):\n",
    " return millis / 1000.0 / 60.0 / 60.0 / 24.0"
   ]
  },
  {
   "cell_type": "code",
   "execution_count": null,
   "id": "c209ef26",
   "metadata": {},
   "outputs": [],
   "source": [
    "def to_days(millis):\n",
    "    return millis / 1000.0 / 60.0 / 60.0 / 24.0\n",
    "\n",
    "def to_milliseconds(days):\n",
    "    return days * 24.0 * 60.0 * 60.0 * 1000.0\n",
    "\n",
    "def main():\n",
    "    print(\"Choose conversion:\")\n",
    "    print(\"1. Milliseconds to Days\")\n",
    "    print(\"2. Days to Milliseconds\")\n",
    "\n",
    "    choice = int(input(\"Enter your choice (1 or 2): \"))\n",
    "\n",
    "    if choice == 1:\n",
    "        millis_input = float(input(\"Enter milliseconds: \"))\n",
    "        days_result = to_days(millis_input)\n",
    "        print(f\"{millis_input} milliseconds is approximately {days_result:.6f} days.\")\n",
    "    elif choice == 2:\n",
    "        days_input = float(input(\"Enter days: \"))\n",
    "        millis_result = to_milliseconds(days_input)\n",
    "        print(f\"{days_input} days is approximately {millis_result:.6f} milliseconds.\")\n",
    "    else:\n",
    "        print(\"Invalid choice. Please enter 1 or 2.\")\n",
    "\n",
    "if __name__ == \"__main__\":\n",
    "    main()\n"
   ]
  },
  {
   "cell_type": "markdown",
   "id": "442e20fe",
   "metadata": {},
   "source": [
    "QUESTION 6B\n",
    "Write a similar method named area that takes as a parameter the radius of \n",
    "a circle and that returns the area of the circle. For example, the call \n",
    "area(2.0);\n",
    "should return \n",
    "12.566370614359172. \n",
    "Recall that area can be computed as π times the radius squared and that \n",
    "Python has a constant called math.pi"
   ]
  },
  {
   "cell_type": "code",
   "execution_count": null,
   "id": "cb85fda5",
   "metadata": {},
   "outputs": [],
   "source": [
    "import math\n",
    "\n",
    "def calculate_area(radius):\n",
    "    # Using the formula: Area = π * r^2\n",
    "    area = math.pi * radius ** 2\n",
    "    return area\n",
    "\n",
    "def main():\n",
    "    radius = float(input(\"Enter the radius of the circle: \"))\n",
    "    circle_area = calculate_area(radius)\n",
    "    print(f\"The area of the circle with radius {radius} is approximately {circle_area:.6f} square units.\")\n",
    "\n",
    "if __name__ == \"__main__\":\n",
    "    main()\n"
   ]
  },
  {
   "cell_type": "markdown",
   "id": "17c0ec12",
   "metadata": {},
   "source": [
    "QUESTION 7\n",
    "Copy and paste the following code into pythons IDLE script \n",
    "environment.\n",
    " low = 1\n",
    " high = 1001\n",
    " sum = 0\n",
    " for i in range(low,high):\n",
    " sum += i\n",
    " \n",
    " print(\"sum = \" , sum)\n",
    " \n",
    "Modify the code to use a input to prompt the user for the values of low\n",
    "and high. Below is a sample execution in which the user asks for the same \n",
    "values as in the original program (1 through 1000):\n",
    "low? 1\n",
    "high? 1001\n",
    "sum = 500500\n",
    "Below is an execution with different values for low and high:\n",
    "low? 300\n",
    "high? 5298\n",
    "sum = 13986903\n",
    "You should exactly reproduce this format."
   ]
  },
  {
   "cell_type": "code",
   "execution_count": null,
   "id": "e6d470cb",
   "metadata": {},
   "outputs": [],
   "source": [
    "low = int(input(\"low? \"))\n",
    "high = int(input(\"high? \"))\n",
    "sum = 0\n",
    "\n",
    "for i in range(low, high):\n",
    "    sum += i\n",
    "\n",
    "print(\"sum =\", sum)\n"
   ]
  },
  {
   "cell_type": "markdown",
   "id": "583fe106",
   "metadata": {},
   "source": [
    "QUESTION 8\n",
    ". Write a program using while loop that prompts the user for numbers until \n",
    "the user types 0, then outputs their sum"
   ]
  },
  {
   "cell_type": "code",
   "execution_count": null,
   "id": "5bedfa3c",
   "metadata": {},
   "outputs": [],
   "source": [
    "# Initialize sum to 0\n",
    "sum_of_numbers = 0\n",
    "\n",
    "# Prompt the user for numbers until 0 is entered\n",
    "while True:\n",
    "    user_input = int(input(\"Enter a number (type 0 to finish): \"))B\n",
    "    \n",
    "    # Check if the user entered 0 to exit the loop\n",
    "    if user_input == 0:\n",
    "        break\n",
    "    \n",
    "    # Add the entered number to the sum\n",
    "    sum_of_numbers += user_input\n",
    "\n",
    "# Output the sum\n",
    "print(\"Sum of entered numbers:\", sum_of_numbers)\n"
   ]
  },
  {
   "cell_type": "markdown",
   "id": "0ad59e5f",
   "metadata": {},
   "source": [
    "QUESTION 9\n",
    "Write a program using while loop that prompts the user for numbers until \n",
    "the user types -1, then outputs their sum."
   ]
  },
  {
   "cell_type": "code",
   "execution_count": null,
   "id": "f378126d",
   "metadata": {},
   "outputs": [],
   "source": [
    "# Initialize sum to 0\n",
    "sum_of_numbers = 0\n",
    "\n",
    "# Prompt the user for numbers until -1 is entered\n",
    "while True:\n",
    "    user_input = float(input(\"Enter a number (type -1 to finish): \"))\n",
    "    \n",
    "    # Check if the user entered -1 to exit the loop\n",
    "    if user_input == -1:\n",
    "        break\n",
    "    \n",
    "    # Add the entered number to the sum\n",
    "    sum_of_numbers += user_input\n",
    "\n",
    "# Output the sum\n",
    "print(\"Sum of entered numbers:\", sum_of_numbers)\n"
   ]
  },
  {
   "cell_type": "markdown",
   "id": "9b3180c5",
   "metadata": {},
   "source": [
    "QUESTION 10\n",
    "Write a method named repl that accepts a String and a number of \n",
    "repetitions as parameters and returns the String concatenated that many \n",
    "times. For example, the call repl(\"hello\", 3) returns \"hellohellohello\". \n",
    "If the number of repetitions is 0 or less, an empty string is returned."
   ]
  },
  {
   "cell_type": "code",
   "execution_count": null,
   "id": "be618b3b",
   "metadata": {},
   "outputs": [],
   "source": [
    "def repl(input_str, repetitions):\n",
    "    if repetitions <= 0:\n",
    "        return \"\"\n",
    "    else:\n",
    "        return input_str * repetitions\n",
    "\n",
    "# Example usage:\n",
    "result = repl(\"hello\", 3)\n",
    "print(result)\n"
   ]
  },
  {
   "cell_type": "code",
   "execution_count": null,
   "id": "6c0a80c1",
   "metadata": {},
   "outputs": [],
   "source": [
    "# Using the input function for entering of string and repl integer\n",
    "def repl(input_string, repetitions):\n",
    "    result = input_string * repetitions\n",
    "    return result\n",
    "\n",
    "def main():\n",
    "    user_input_string = input(\"Enter a string: \")\n",
    "    user_input_repetitions = int(input(\"Enter the number of repetitions: \"))\n",
    "\n",
    "    result_string = repl(user_input_string, user_input_repetitions)\n",
    "    \n",
    "    print(f\"The result after repeating the string is: {result_string}\")\n",
    "\n",
    "if __name__ == \"__main__\":\n",
    "    main()\n"
   ]
  },
  {
   "cell_type": "markdown",
   "id": "64e11532",
   "metadata": {},
   "source": [
    "QUESTION 11\n",
    "Write a method called printRange that accepts two integers as arguments and \n",
    "prints the sequence of numbers between the two arguments, separated by \n",
    "spaces. Print an increasing sequence if the first argument is smaller than \n",
    "the second; otherwise, print a decreasing sequence. If the two numbers \n",
    "are the same, that number should be printed by itself. Here are some \n",
    "sample calls to printRange: \n",
    "printRange(2, 7)\n",
    "printRange(19, 11)\n",
    "printRange(5, 5)"
   ]
  },
  {
   "cell_type": "code",
   "execution_count": null,
   "id": "5f384f29",
   "metadata": {},
   "outputs": [],
   "source": [
    "def printRange(num1, num2):\n",
    "    if num1 < num2:\n",
    "        # Print increasing sequence\n",
    "        for i in range(num1, num2 + 1):\n",
    "            print(i, end=' ')\n",
    "    elif num1 > num2:\n",
    "        # Print decreasing sequence\n",
    "        for i in range(num1, num2 - 1, -1):\n",
    "            print(i, end=' ')\n",
    "    else:\n",
    "        # Print the single number if they are the same\n",
    "        print(num1)\n",
    "\n",
    "# Sample calls\n",
    "printRange(2, 7)\n",
    "print()  # Empty line for separation\n",
    "printRange(19, 11)\n",
    "print()\n",
    "printRange(5, 5)\n"
   ]
  },
  {
   "cell_type": "code",
   "execution_count": null,
   "id": "b069be6f",
   "metadata": {},
   "outputs": [],
   "source": [
    "#modify to all\n",
    "def printRange(start, end):\n",
    "    if start < end:\n",
    "        for num in range(start, end + 1):\n",
    "            print(num, end=\" \")\n",
    "    elif start > end:\n",
    "        for num in range(start, end - 1, -1):\n",
    "            print(num, end=\" \")\n",
    "    else:\n",
    "        print(start)\n",
    "\n",
    "def main():\n",
    "    user_input_start = int(input(\"Enter the starting number: \"))\n",
    "    user_input_end = int(input(\"Enter the ending number: \"))\n",
    "\n",
    "    print(\"The sequence of numbers is:\")\n",
    "    printRange(user_input_start, user_input_end)\n",
    "\n",
    "if __name__ == \"__main__\":\n",
    "    main()\n"
   ]
  },
  {
   "cell_type": "markdown",
   "id": "182e910a",
   "metadata": {},
   "source": [
    "QUESTION 12\n",
    "Write a method named smallestLargest that asks the user to enter numbers, \n",
    "then prints the smallest and largest of all the numbers typed in by the \n",
    "user. You may assume the user enters a valid number greater than 0 for \n",
    "the number of numbers to read. Here is an example dialogue: \n",
    "How many numbers do you want to enter? 4\n",
    "Number 1: 5\n",
    "Number 2: 11\n",
    "Number 3: -2\n",
    "Number 4: 3\n",
    "Smallest = -"
   ]
  },
  {
   "cell_type": "code",
   "execution_count": null,
   "id": "7f43b012",
   "metadata": {},
   "outputs": [],
   "source": [
    "def smallestLargest():\n",
    "    num_count = int(input(\"How many numbers do you want to enter? \"))\n",
    "\n",
    "    # Ensure the user enters a valid number greater than 0\n",
    "    while num_count <= 0:\n",
    "        print(\"Please enter a valid number greater than 0.\")\n",
    "        num_count = int(input(\"How many numbers do you want to enter? \"))\n",
    "\n",
    "    # Initialize variables to keep track of smallest and largest numbers\n",
    "    smallest = float('inf')\n",
    "    largest = float('-inf')\n",
    "\n",
    "    # Loop to get user input for numbers\n",
    "    for i in range(1, num_count + 1):\n",
    "        user_input = float(input(f\"Number {i}: \"))\n",
    "        smallest = min(smallest, user_input)\n",
    "        largest = max(largest, user_input)\n",
    "\n",
    "    # Output the smallest and largest numbers\n",
    "    print(f\"Smallest = {smallest}\")\n",
    "    print(f\"Largest = {largest}\")\n",
    "\n",
    "def main():\n",
    "    smallestLargest()\n",
    "\n",
    "if __name__ == \"__main__\":\n",
    "    main()\n"
   ]
  },
  {
   "cell_type": "markdown",
   "id": "256fafac",
   "metadata": {},
   "source": [
    "QUESTION 13\n",
    "Write a method called printAverage that uses a sentinel loop to \n",
    "repeatedly prompt the user for numbers. Once the user types any number \n",
    "less than zero, the method should display the average of all nonnegative \n",
    "numbers typed. Display the average as a double. Here is a sample \n",
    "dialogue with the user:\n",
    "Type a number: 7\n",
    "Type a number: 4\n",
    "Type a number: 16\n",
    "Type a number: –4\n",
    "Average was 9.0\n",
    "If the first number that the user types is negative, do not print an average:\n",
    "Type a number: –2"
   ]
  },
  {
   "cell_type": "code",
   "execution_count": null,
   "id": "8eca74bf",
   "metadata": {},
   "outputs": [],
   "source": []
  },
  {
   "cell_type": "markdown",
   "id": "1300bfbd",
   "metadata": {},
   "source": []
  },
  {
   "cell_type": "code",
   "execution_count": null,
   "id": "1948d02a",
   "metadata": {},
   "outputs": [],
   "source": [
    "def printAverage():\n",
    "    total = 0\n",
    "    count = 0\n",
    "\n",
    "    while True:\n",
    "        user_input = float(input(\"Type a number: \"))\n",
    "\n",
    "        if user_input < 0:\n",
    "            if count > 0:\n",
    "                average = total / count\n",
    "                print(f\"Average was {average}\")\n",
    "            else:\n",
    "                print(\"No nonnegative numbers entered.\")\n",
    "            break\n",
    "        else:\n",
    "            total += user_input\n",
    "            count += 1\n",
    "\n",
    "def main():\n",
    "    printAverage()\n",
    "\n",
    "if __name__ == \"__main__\":\n",
    "    main()\n"
   ]
  },
  {
   "cell_type": "markdown",
   "id": "c62add92",
   "metadata": {},
   "source": [
    "QUESTION 14\n",
    "Write a method named numUnique that takes three integers as parameters \n",
    "and returns the number of unique integers among the three. For example, \n",
    "the call numUnique(18, 3, 4) should return 3 because the parameters \n",
    "have three different values. By contrast, the call numUnique(6, 7, 6)\n",
    "should return 2 because there are only two unique numbers among the \n",
    "three parameters: 6 and 7."
   ]
  },
  {
   "cell_type": "code",
   "execution_count": null,
   "id": "09e60d80",
   "metadata": {},
   "outputs": [],
   "source": [
    "def numUnique(num1, num2, num3):\n",
    "    unique_set = set([num1, num2, num3])\n",
    "    return len(unique_set)\n",
    "\n",
    "def main():\n",
    "    # Example usages\n",
    "    result1 = numUnique(18, 3, 4)\n",
    "    print(f\"numUnique(18, 3, 4) returns {result1}\")\n",
    "\n",
    "    result2 = numUnique(6, 7, 6)\n",
    "    print(f\"numUnique(6, 7, 6) returns {result2}\")\n",
    "\n",
    "if __name__ == \"__main__\":\n",
    "    main()\n"
   ]
  },
  {
   "cell_type": "code",
   "execution_count": null,
   "id": "a381c21a",
   "metadata": {},
   "outputs": [],
   "source": [
    "#using the input function\n",
    "def numUnique(num1, num2, num3):\n",
    "    unique_numbers = set([num1, num2, num3])\n",
    "    return len(unique_numbers)\n",
    "\n",
    "def main():\n",
    "    user_input1 = int(input(\"Enter the first integer: \"))\n",
    "    user_input2 = int(input(\"Enter the second integer: \"))\n",
    "    user_input3 = int(input(\"Enter the third integer: \"))\n",
    "\n",
    "    result = numUnique(user_input1, user_input2, user_input3)\n",
    "\n",
    "    print(f\"The number of unique integers among the three is: {result}\")\n",
    "\n",
    "if __name__ == \"__main__\":\n",
    "    main()\n"
   ]
  },
  {
   "cell_type": "markdown",
   "id": "0e1934a5",
   "metadata": {},
   "source": [
    "QUETION 15\n",
    "A Random object generates pseudo-random numbers. Find out how to \n",
    "use the Random class and write a program that simulates rolling of two 6-\n",
    "sided dice until their combined result comes up as 7. One possible output \n",
    "can be seen as below:\n",
    " 2 + 4 = 6\n",
    "3 + 5 = 8\n",
    "5 + 6 = 11\n",
    "1 + 1 = 2\n",
    "4 + 3 = 7\n",
    "You won after 5 tries"
   ]
  },
  {
   "cell_type": "code",
   "execution_count": 1,
   "id": "b557da95",
   "metadata": {},
   "outputs": [
    {
     "name": "stdout",
     "output_type": "stream",
     "text": [
      "5 + 2 = 7\n",
      "You won after 1 tries.\n"
     ]
    }
   ],
   "source": [
    "\n",
    "import random\n",
    "\n",
    "def roll_dice():\n",
    "    return random.randint(1, 6)\n",
    "\n",
    "def simulate_dice_rolls():\n",
    "    tries = 0\n",
    "    while True:\n",
    "        dice1 = roll_dice()\n",
    "        dice2 = roll_dice()\n",
    "\n",
    "        total = dice1 + dice2\n",
    "        print(f\"{dice1} + {dice2} = {total}\")\n",
    "\n",
    "        tries += 1\n",
    "\n",
    "        if total == 7:\n",
    "            print(f\"You won after {tries} tries.\")\n",
    "            break\n",
    "\n",
    "def main():\n",
    "    simulate_dice_rolls()\n",
    "\n",
    "if __name__ == \"__main__\":\n",
    "    main()\n"
   ]
  },
  {
   "cell_type": "code",
   "execution_count": 2,
   "id": "d26357e3",
   "metadata": {},
   "outputs": [
    {
     "name": "stdout",
     "output_type": "stream",
     "text": [
      "3 + 2 = 5\n",
      "2 + 5 = 7\n",
      "You won after 2 tries.\n"
     ]
    }
   ],
   "source": []
  },
  {
   "cell_type": "code",
   "execution_count": null,
   "id": "6dee62bb",
   "metadata": {
    "scrolled": true
   },
   "outputs": [],
   "source": [
    "import random\n",
    "\n",
    "def roll_dice():\n",
    "    return random.randint(1, 6)\n",
    "\n",
    "def simulate_dice_rolls():\n",
    "    tries = 0\n",
    "    while True:\n",
    "        input(\"Press Enter to roll the dice...\")\n",
    "        dice1 = roll_dice()\n",
    "        dice2 = roll_dice()\n",
    "\n",
    "        total = dice1 + dice2\n",
    "        print(f\"{dice1} + {dice2} = {total}\")\n",
    "\n",
    "        tries += 1\n",
    "\n",
    "        if total == 7:\n",
    "            print(f\"You won after {tries} tries.\")\n",
    "            break\n",
    "\n",
    "def main():\n",
    "    simulate_dice_rolls()\n",
    "\n",
    "if __name__ == \"__main__\":\n",
    "    main()\n"
   ]
  },
  {
   "cell_type": "code",
   "execution_count": null,
   "id": "d27b0155",
   "metadata": {},
   "outputs": [],
   "source": [
    "import random\n",
    "\n",
    "def roll_dice():\n",
    "    return random.randint(1, 6)\n",
    "\n",
    "def simulate_dice_rolls():\n",
    "    tries = 0\n",
    "    while True:\n",
    "        dice1 = roll_dice()\n",
    "        dice2 = roll_dice()\n",
    "\n",
    "        total = dice1 + dice2\n",
    "        print(f\"{dice1} + {dice2} = {total}\")\n",
    "\n",
    "        tries += 1\n",
    "\n",
    "        if total == 7:\n",
    "            print(f\"You won after {tries} tries.\")\n",
    "            break\n",
    "\n",
    "def main():\n",
    "    simulate_dice_rolls()\n",
    "\n",
    "if __name__ == \"__main__\":\n",
    "    main()\n"
   ]
  }
 ],
 "metadata": {
  "kernelspec": {
   "display_name": "Python 3 (ipykernel)",
   "language": "python",
   "name": "python3"
  },
  "language_info": {
   "codemirror_mode": {
    "name": "ipython",
    "version": 3
   },
   "file_extension": ".py",
   "mimetype": "text/x-python",
   "name": "python",
   "nbconvert_exporter": "python",
   "pygments_lexer": "ipython3",
   "version": "3.11.5"
  }
 },
 "nbformat": 4,
 "nbformat_minor": 5
}
