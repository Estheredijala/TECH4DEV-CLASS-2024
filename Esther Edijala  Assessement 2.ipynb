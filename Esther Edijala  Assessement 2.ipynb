{
 "cells": [
  {
   "cell_type": "markdown",
   "id": "2705de3d",
   "metadata": {},
   "source": [
    "# Python programming exercises"
   ]
  },
  {
   "cell_type": "markdown",
   "id": "b6224c4a",
   "metadata": {},
   "source": [
    "EXERCISE 2"
   ]
  },
  {
   "cell_type": "markdown",
   "id": "ba957452",
   "metadata": {},
   "source": [
    "Number 1"
   ]
  },
  {
   "cell_type": "markdown",
   "id": "c7729a39",
   "metadata": {},
   "source": [
    "Write a program that finds the maximum value of the given list, assuming that the list\n",
    "contains at least one element.\n",
    "Try your program with the following array\n",
    "2 4 7 4 23 5 1 4 8 9"
   ]
  },
  {
   "cell_type": "code",
   "execution_count": 1,
   "id": "4ba71bb5",
   "metadata": {},
   "outputs": [
    {
     "name": "stdout",
     "output_type": "stream",
     "text": [
      "The maximum value of the list is:\n",
      " 23\n"
     ]
    }
   ],
   "source": [
    "#Given list\n",
    "\n",
    "list_1 = [2, 4, 7, 4, 23, 5, 1, 4, 8, 9]\n",
    "\n",
    "#find the the maximum\n",
    "max_value=max(list_1)\n",
    "\n",
    "#print the maximum\n",
    "print('The maximum value of the list is:\\n',max_value)\n"
   ]
  },
  {
   "cell_type": "markdown",
   "id": "c864390f",
   "metadata": {},
   "source": [
    "Number 2\n",
    "\n",
    "Write a program that calculates the average value of the given list.\n",
    "Try your program with the following list\n",
    "4 7 1 5 11 53 12 46 84 23"
   ]
  },
  {
   "cell_type": "code",
   "execution_count": 2,
   "id": "766d5534",
   "metadata": {},
   "outputs": [
    {
     "name": "stdout",
     "output_type": "stream",
     "text": [
      "The length of the given values is:\n",
      " 10\n"
     ]
    }
   ],
   "source": [
    "#given the values\n",
    "# the 'len'  function is used to determine the length or the number of items in an object. \n",
    "#The meaning of \"len\" is short for \"length.\n",
    "\n",
    "\n",
    "list_2 = [4, 7, 1, 5, 11, 53, 12, 46, 84, 23]\n",
    "#lenght of values in the list\n",
    "value_length = len(list_2)\n",
    "#print the lenght of values\n",
    "print('The length of the given values is:\\n', value_length)"
   ]
  },
  {
   "cell_type": "code",
   "execution_count": 3,
   "id": "5a56ff1e",
   "metadata": {},
   "outputs": [
    {
     "name": "stdout",
     "output_type": "stream",
     "text": [
      "The length of the given values is:\n",
      " 10\n",
      "The Average of the given list is:\n",
      " 24.6\n"
     ]
    }
   ],
   "source": [
    "list_2 = [4, 7, 1, 5, 11, 53, 12, 46, 84, 23]\n",
    "#lenght of values in the list\n",
    "value_length = len(list_2)\n",
    "\n",
    "#print the lenght of values\n",
    "print('The length of the given values is:\\n', value_length)\n",
    "\n",
    "#to get the average 1st sum the values than divide by the lenght of values\n",
    "\n",
    "\n",
    "# calculating the average of values\n",
    "average=sum(list_2)/len(list_2)\n",
    "print('The Average of the given list is:\\n', average)"
   ]
  },
  {
   "cell_type": "markdown",
   "id": "752cf40f",
   "metadata": {},
   "source": [
    "# Number 3\n",
    "\n",
    "Write a program that prints the given list of integers in reverse order.\n",
    "Try your program with the following list.\n",
    "\n",
    "2 6 7 45 23 53 14 45 89 5"
   ]
  },
  {
   "cell_type": "code",
   "execution_count": null,
   "id": "7cee5950",
   "metadata": {},
   "outputs": [],
   "source": [
    "\n"
   ]
  },
  {
   "cell_type": "code",
   "execution_count": 4,
   "id": "6d67193d",
   "metadata": {},
   "outputs": [
    {
     "name": "stdout",
     "output_type": "stream",
     "text": [
      "The Original list:\t [2, 6, 7, 45, 23, 53, 14, 45, 89, 5]\n",
      "\n",
      "List in Reverse Order:\t [5, 89, 45, 14, 53, 23, 45, 7, 6, 2]\n"
     ]
    }
   ],
   "source": [
    "# reversing the integers using the Slicing method given integers \n",
    "list_3 = [2, 6, 7, 45, 23, 53, 14, 45, 89, 5]\n",
    "\n",
    "# reversing the integers\n",
    "reversed_list= list_3[::-1]\n",
    "\n",
    "# print in reverse order\n",
    "print('The Original list:\\t',list_3)\n",
    "print()\n",
    "print('List in Reverse Order:\\t', reversed_list)"
   ]
  },
  {
   "cell_type": "code",
   "execution_count": 5,
   "id": "2c7f2097",
   "metadata": {},
   "outputs": [
    {
     "ename": "IndentationError",
     "evalue": "expected an indented block after 'for' statement on line 8 (2669668141.py, line 9)",
     "output_type": "error",
     "traceback": [
      "\u001b[1;36m  Cell \u001b[1;32mIn[5], line 9\u001b[1;36m\u001b[0m\n\u001b[1;33m    print(list_3[i])\u001b[0m\n\u001b[1;37m    ^\u001b[0m\n\u001b[1;31mIndentationError\u001b[0m\u001b[1;31m:\u001b[0m expected an indented block after 'for' statement on line 8\n"
     ]
    }
   ],
   "source": [
    "# reversing the integers using the LOOP function\n",
    "list_3 = [2, 6, 7, 45, 23, 53, 14, 45, 89, 5]\n",
    "\n",
    "# Print the list in reverse order one by one\n",
    "print('Original list:', list_3)\n",
    "print('List in reverse order:')\n",
    "\n",
    "for i in range(len(list_3) - 1, -1, -1):\n",
    "print(list_3[i])"
   ]
  },
  {
   "cell_type": "markdown",
   "id": "6b62b20e",
   "metadata": {},
   "source": [
    "# Number 4\n",
    "\n",
    "\n",
    "a) Write a program that accepts two lists of integers and prints true if each element in the first list is less than the element at the same index in the second list. \n",
    "\n",
    "b)  Your program should print \n",
    "false if the lists are not the same length."
   ]
  },
  {
   "cell_type": "code",
   "execution_count": null,
   "id": "980dea6a",
   "metadata": {},
   "outputs": [],
   "source": []
  },
  {
   "cell_type": "code",
   "execution_count": null,
   "id": "b005ce8e",
   "metadata": {},
   "outputs": [],
   "source": [
    "def compare_lists(list1, list2):\n",
    "    # Check if the lists have the same length\n",
    "    if len(list1) != len(list2):\n",
    "        return False\n",
    "\n",
    "    # Use all() to check if each element in list1 is less than the corresponding element in list2\n",
    "    return all(list1[i] < list2[i] for i in range(len(list1)))\n",
    "\n",
    "# LIST OF INTEGERS \n",
    "list1 = [1, 2, 3, 4]\n",
    "list2 = [5, 6, 7, 8]\n",
    "result = compare_lists(list1, list2)\n",
    "print(result)\n"
   ]
  },
  {
   "cell_type": "markdown",
   "id": "60c6f674",
   "metadata": {},
   "source": [
    "# QUESTION 5\n",
    "Write a program that accepts a list of integers and two indexes and swaps the elements at \n",
    "those indexes\n"
   ]
  },
  {
   "cell_type": "code",
   "execution_count": null,
   "id": "a287da72",
   "metadata": {},
   "outputs": [],
   "source": []
  },
  {
   "cell_type": "code",
   "execution_count": null,
   "id": "9e1cc91a",
   "metadata": {},
   "outputs": [],
   "source": [
    "def swap_elements(lst, index1, index2):\n",
    "    # Check if the indices are valid\n",
    "    if 0 <= index1 < len(lst) and 0 <= index2 < len(lst):\n",
    "        # Swap the elements at the specified indices\n",
    "        lst[index1], lst[index2] = lst[index2], lst[index1]\n",
    "        return lst\n",
    "    else:\n",
    "        print(\"Invalid indices. Please provide valid indices.\")\n",
    "\n",
    "# Example usage:\n",
    "input_list = [1, 2, 3, 4, 5]\n",
    "index1 = int(input(\"Enter the first index: \"))\n",
    "index2 = int(input(\"Enter the second index: \"))\n",
    "\n",
    "result = swap_elements(input_list, index1, index2)\n",
    "\n",
    "if result:\n",
    "    print(f\"List after swapping elements at indices {index1} and {index2}: {result}\")\n"
   ]
  },
  {
   "cell_type": "markdown",
   "id": "a14dfad7",
   "metadata": {},
   "source": [
    "# QUESTION 6\n",
    "Write a program that accepts two lists of integers and prints a new list containing all \n",
    "elements of the first list followed by all elements of the second"
   ]
  },
  {
   "cell_type": "code",
   "execution_count": null,
   "id": "517b72f4",
   "metadata": {},
   "outputs": [],
   "source": [
    "def concatenate_lists(list1, list2):\n",
    "    # Concatenate the two lists using the + operator\n",
    "    result_list = list1 + list2\n",
    "    return result_list\n",
    "\n",
    "# Example usage:\n",
    "list1 = [1, 2, 3]\n",
    "list2 = [4, 5, 6]\n",
    "\n",
    "result = concatenate_lists(list1, list2)\n",
    "\n",
    "print(f\"Concatenated List: {result}\")\n"
   ]
  },
  {
   "cell_type": "markdown",
   "id": "b9d3d994",
   "metadata": {},
   "source": [
    "# QUESTION 7\n",
    "Write a program that accepts a list of integers and an integer value as its parameters and \n",
    "prints the last index at which the value occurs in the list. The program should print –1 if the \n",
    "value is not found. For example, in the list [74, 85, 102, 99, 101, 85, 56], the last index of the \n",
    "value 85 is 5."
   ]
  },
  {
   "cell_type": "code",
   "execution_count": null,
   "id": "dc1a6b68",
   "metadata": {},
   "outputs": [],
   "source": [
    "def last_index_of_value(lst, value):\n",
    "    # Check if the value is in the list\n",
    "    if value in lst:\n",
    "        # Find the last index of the value using the rindex() method\n",
    "        last_index = len(lst) - lst[::-1].index(value) - 1\n",
    "        return last_index\n",
    "    else:\n",
    "        return -1\n",
    "\n",
    "# Example usage:\n",
    "input_list = [74, 85, 102, 99, 101, 85, 56]\n",
    "search_value = int(input(\"Enter the value to find: \"))\n",
    "\n",
    "result = last_index_of_value(input_list, search_value)\n",
    "\n",
    "print(f\"Last index of {search_value} in the list: {result}\")\n"
   ]
  },
  {
   "cell_type": "markdown",
   "id": "7ef4f806",
   "metadata": {},
   "source": [
    "# QUESTION 8\n",
    "Write a program that prints the range of values in a list of integers. The range is defined as 1 \n",
    "more than the difference between the maximum and minimum values in the list. For \n",
    "example, if a list contains the values [36, 12, 25, 19, 46, 31, 22], the program should return \n",
    "35. You may assume that the list has at least one element"
   ]
  },
  {
   "cell_type": "code",
   "execution_count": null,
   "id": "c5410b56",
   "metadata": {},
   "outputs": [],
   "source": [
    "def calculate_range(lst):\n",
    "    # Find the minimum and maximum values in the list\n",
    "    min_value = min(lst)\n",
    "    max_value = max(lst)\n",
    "    \n",
    "    # Calculate the range\n",
    "    value_range = max_value - min_value + 1\n",
    "    \n",
    "    return value_range\n",
    "\n",
    "# Example usage:\n",
    "input_list = [36, 12, 25, 19, 46, 31, 22]\n",
    "\n",
    "result = calculate_range(input_list)\n",
    "\n",
    "print(f\"Range of values in the list: {result}\")\n"
   ]
  },
  {
   "cell_type": "markdown",
   "id": "fad33478",
   "metadata": {},
   "source": [
    "\n",
    "# QUESTION 9 \n",
    "Write a program that accepts a list of integers, a minimum value, and a maximum value and \n",
    "prints the count of how many elements from the list fall between the minimum and \n",
    "maximum (inclusive). For example, in the list [14, 1, 22, 17, 36, 7, -43, 5], for minimum value \n",
    "4 and maximum value 17, there are four elements whose values fall between 4 and 17"
   ]
  },
  {
   "cell_type": "code",
   "execution_count": 7,
   "id": "7f06fbc1",
   "metadata": {},
   "outputs": [
    {
     "name": "stdout",
     "output_type": "stream",
     "text": [
      "Enter the minimum value: 4\n",
      "Enter the maximum value: 17\n",
      "Count of elements between 4 and 17 (inclusive): 4\n"
     ]
    }
   ],
   "source": [
    "def count_elements_between(lst, min_value, max_value):\n",
    "    # Use a list comprehension to count elements within the specified range\n",
    "    count = sum(1 for elem in lst if min_value <= elem <= max_value)\n",
    "    return count\n",
    "\n",
    "# Example usage:\n",
    "input_list = [14, 1, 22, 17, 36, 7, -43, 5]\n",
    "min_value = int(input(\"Enter the minimum value: \"))\n",
    "max_value = int(input(\"Enter the maximum value: \"))\n",
    "\n",
    "result = count_elements_between(input_list, min_value, max_value)\n",
    "\n",
    "print(f\"Count of elements between {min_value} and {max_value} (inclusive): {result}\")\n"
   ]
  },
  {
   "cell_type": "markdown",
   "id": "54ec0659",
   "metadata": {},
   "source": [
    "# QUESTION 10\n",
    "Write a program that accepts a list of real numbers and prints true if the list is in sorted \n",
    "(nondecreasing) order and false otherwise. For example, if lists named list1 and list2 store \n",
    "[16.1, 12.3, 22.2, 14.4] and [1.5, 4.3, 7.0, 19.5, 25.1, 46.2] respectively, the program should \n",
    "print false for list1 and true for list2 respectively. Assume the list has at least one element. A \n",
    "one-element list is sorted"
   ]
  },
  {
   "cell_type": "code",
   "execution_count": 8,
   "id": "9d841225",
   "metadata": {},
   "outputs": [
    {
     "name": "stdout",
     "output_type": "stream",
     "text": [
      "Is list1 sorted? False\n",
      "Is list2 sorted? True\n"
     ]
    }
   ],
   "source": [
    "def is_sorted(lst):\n",
    "    # Use all() with a generator expression to check if each element is less than or equal to the next\n",
    "    return all(lst[i] <= lst[i + 1] for i in range(len(lst) - 1))\n",
    "\n",
    "# Example usage:\n",
    "list1 = [16.1, 12.3, 22.2, 14.4]\n",
    "list2 = [1.5, 4.3, 7.0, 19.5, 25.1, 46.2]\n",
    "\n",
    "result1 = is_sorted(list1)\n",
    "result2 = is_sorted(list2)\n",
    "\n",
    "print(f\"Is list1 sorted? {result1}\")\n",
    "print(f\"Is list2 sorted? {result2}\")\n"
   ]
  },
  {
   "cell_type": "code",
   "execution_count": null,
   "id": "897463b7",
   "metadata": {},
   "outputs": [],
   "source": []
  }
 ],
 "metadata": {
  "kernelspec": {
   "display_name": "Python 3 (ipykernel)",
   "language": "python",
   "name": "python3"
  },
  "language_info": {
   "codemirror_mode": {
    "name": "ipython",
    "version": 3
   },
   "file_extension": ".py",
   "mimetype": "text/x-python",
   "name": "python",
   "nbconvert_exporter": "python",
   "pygments_lexer": "ipython3",
   "version": "3.11.5"
  }
 },
 "nbformat": 4,
 "nbformat_minor": 5
}
